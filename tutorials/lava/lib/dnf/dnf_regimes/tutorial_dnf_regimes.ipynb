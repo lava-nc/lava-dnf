{
 "cells": [
  {
   "cell_type": "markdown",
   "metadata": {},
   "source": [
    "*Copyright (C) 2021 Intel Corporation*<br>\n",
    "*SPDX-License-Identifier: BSD-3-Clause*<br>\n",
    "*See: https://spdx.org/licenses/*\n",
    "\n",
    "---\n",
    "\n",
    "# DNF regimes\n",
    "\n",
    "The following examples demonstrate the fundamental regimes of\n",
    "DNFs and their associated instabilities that are the basis for all\n",
    "macroscopic behavior of architectures.\n"
   ]
  },
  {
   "cell_type": "code",
   "execution_count": null,
   "metadata": {},
   "outputs": [],
   "source": [
    "from lava.proc.lif.process import LIF\n",
    "from lava.lib.dnf.connect.connect import connect\n",
    "from lava.lib.dnf.operations.operations import Weights\n",
    "from lava.lib.dnf.operations.operations import Convolution\n",
    "from lava.lib.dnf.inputs.gauss_pattern.process import GaussPattern\n",
    "from lava.lib.dnf.inputs.rate_code_spike_gen.process import RateCodeSpikeGen\n",
    "\n",
    "from lava.magma.core.run_configs import Loihi1SimCfg\n",
    "from lava.magma.core.run_conditions import RunSteps\n",
    "from lava.proc.monitor.process import Monitor\n",
    "from lava.proc.monitor.models import PyMonitorModel\n",
    "\n",
    "from utils import plot_1d, animated_1d_plot\n",
    "\n",
    "\n",
    "class Architecture:\n",
    "    \"\"\"This class structure is not required and is only used here to reduce\n",
    "    code duplication for different examples.\"\"\"\n",
    "    def __init__(self, kernel):\n",
    "        shape = (15,)\n",
    "        time_steps = 700\n",
    "\n",
    "        # Set up spike generator 1\n",
    "        self.gauss_pattern_1 = GaussPattern(shape=shape,\n",
    "                                       amplitude=0,\n",
    "                                       mean=11.25,\n",
    "                                       stddev=2.25)\n",
    "        self.spike_generator_1 = RateCodeSpikeGen(shape=shape)\n",
    "        self.gauss_pattern_1.a_out.connect(self.spike_generator_1.a_in)\n",
    "\n",
    "        # Set up spike generator 2\n",
    "        self.gauss_pattern_2 = GaussPattern(shape=shape,\n",
    "                                       amplitude=0,\n",
    "                                       mean=3.75,\n",
    "                                       stddev=2.25)\n",
    "        self.spike_generator_2 = RateCodeSpikeGen(shape=shape)\n",
    "        self.gauss_pattern_2.a_out.connect(self.spike_generator_2.a_in)\n",
    "\n",
    "        # DNF with specified kernel\n",
    "        self.dnf = LIF(shape=shape, du=409, dv=2047, vth=200)\n",
    "        connect(self.dnf.s_out, self.dnf.a_in, [Convolution(kernel)])\n",
    "\n",
    "        # Connect spike input to DNF\n",
    "        connect(self.spike_generator_1.s_out, self.dnf.a_in, [Weights(25)])\n",
    "        connect(self.spike_generator_2.s_out, self.dnf.a_in, [Weights(25)])\n",
    "\n",
    "        # Set up monitors\n",
    "        self.monitor_dnf = Monitor()\n",
    "        self.monitor_dnf.probe(target=self.dnf.s_out, num_steps=time_steps)\n",
    "        self.monitor_input_1 = Monitor()\n",
    "        self.monitor_input_1.probe(self.spike_generator_1.s_out, time_steps)\n",
    "        self.monitor_input_2 = Monitor()\n",
    "        self.monitor_input_2.probe(self.spike_generator_2.s_out, time_steps)\n",
    "\n",
    "        # Set up a run configuration\n",
    "        self.run_cfg = Loihi1SimCfg(select_tag=\"bit_accurate_loihi\")\n",
    "\n",
    "    def run(self):\n",
    "        # Run the network and make changes to spike inputs over time\n",
    "        condition = RunSteps(num_steps=100)\n",
    "        self.gauss_pattern_1.run(condition=condition, run_cfg=self.run_cfg)\n",
    "        self.gauss_pattern_1.amplitude = 2300\n",
    "        self.gauss_pattern_2.amplitude = 2300\n",
    "        self.gauss_pattern_1.run(condition=condition, run_cfg=self.run_cfg)\n",
    "        self.gauss_pattern_1.amplitude = 11200\n",
    "        self.gauss_pattern_2.amplitude = 11200\n",
    "        self.gauss_pattern_1.run(condition=condition, run_cfg=self.run_cfg)\n",
    "        self.gauss_pattern_1.amplitude = 2300\n",
    "        self.gauss_pattern_2.amplitude = 2300\n",
    "        self.gauss_pattern_1.run(condition=RunSteps(num_steps=200),\n",
    "                                 run_cfg=self.run_cfg)\n",
    "        self.gauss_pattern_1.amplitude = 0\n",
    "        self.gauss_pattern_2.amplitude = 0\n",
    "        self.gauss_pattern_1.run(condition=RunSteps(num_steps=200),\n",
    "                                 run_cfg=self.run_cfg)\n",
    "\n",
    "    def plot(self):\n",
    "        # Get probed data from monitors\n",
    "        data_dnf = self.monitor_dnf.get_data()\\\n",
    "            [self.dnf.name][self.dnf.s_out.name]\n",
    "        data_input1 = self.monitor_input_1.get_data()\\\n",
    "            [self.spike_generator_1.name][self.spike_generator_1.s_out.name]\n",
    "        data_input2 = self.monitor_input_2.get_data()\\\n",
    "            [self.spike_generator_2.name][self.spike_generator_2.s_out.name]\n",
    "\n",
    "        # Stop the execution of the network\n",
    "        self.spike_generator_1.stop()\n",
    "\n",
    "        # Generate a raster plot from the probed data\n",
    "        plot_1d(data_dnf,\n",
    "                data_input1,\n",
    "                data_input2)\n",
    "        \n",
    "        # Generate an animated plot from the probed data\n",
    "        animated_1d_plot(data_dnf,\n",
    "                         data_input1,\n",
    "                         data_input2)"
   ]
  },
  {
   "cell_type": "markdown",
   "metadata": {},
   "source": [
    "## Detection\n",
    "\n",
    "This example demonstrates the _detection instability_ of DNFs. The DNF receives spike input at two locations, whose spike rate changes over time. Between time step 100 and 200, the spike rate is not high enough for the DNF to form a peak and it does not spike. When the input spike rate is increased after time step 200, the DNF goes through the _detection instability_, forming a peak and producing spike output. When the input spike rate is lowered back to its previous value, the DNF keeps spiking and its peak remains stable. This demonstrates hysteresis of detection - the DNF stabilizes its decision about detecting an input. Only when the input is completely removed at time step 500 does the peak disappear in the _reverse detection instability_.\n"
   ]
  },
  {
   "cell_type": "code",
   "execution_count": null,
   "metadata": {
    "pycharm": {
     "name": "#%%\n"
    }
   },
   "outputs": [],
   "source": [
    "from lava.lib.dnf.kernels.kernels import MultiPeakKernel\n",
    "\n",
    "detection_kernel = MultiPeakKernel(amp_exc=83, \n",
    "                                   width_exc=3.75, \n",
    "                                   amp_inh=-70,\n",
    "                                   width_inh=7.5)\n",
    "\n",
    "architecture = Architecture(detection_kernel)\n",
    "architecture.run()\n",
    "architecture.plot()\n"
   ]
  },
  {
   "cell_type": "markdown",
   "metadata": {},
   "source": [
    "## Memory\n",
    "\n",
    "This example demonstrates the memory property of DNFs. The input and connectivity is structured like in the example on 'detection' above but here the local excitation is stronger. This leads to the two peaks in the DNF to remain stable even after the input is deactivated in time step 400. The DNF has thus formed a memory of the inputs being present at those locations. Even though such self-sustained peaks are stable without input, they may track present input that changes its location in a graded manner."
   ]
  },
  {
   "cell_type": "code",
   "execution_count": null,
   "metadata": {
    "pycharm": {
     "name": "#%%\n"
    }
   },
   "outputs": [],
   "source": [
    "memory_kernel = MultiPeakKernel(amp_exc=32, \n",
    "                                width_exc=2.5, \n",
    "                                amp_inh=-18, \n",
    "                                width_inh=4.5)\n",
    "\n",
    "architecture = Architecture(memory_kernel)\n",
    "architecture.run()\n",
    "architecture.plot()"
   ]
  },
  {
   "cell_type": "markdown",
   "metadata": {
    "pycharm": {
     "name": "#%% md\n"
    }
   },
   "source": [
    "## Selection\n",
    "\n",
    "This example demonstrates the _selection instability_ of a DNF. With spike input at two locations, the DNF makes a selection decision at time step 100, creating a peak at only one of the input locations. That decision remains stable even though two inputs are present simultaneously for the subsequent 100 time steps. The selection switches only when the first input is deactivates at time step 200. It then remains stable on the second input location even as the first input is activated again at time step 300. This demonstrates hysteresis of selection - the DNF stabilizes its selection decision. The same behavior is demonstrated again between time step 400 and 600 for the first input.\n",
    "\n",
    "Note: The selection is biased/forced here to always be on the input centered on neuron 11 to fit the structure of the input. To achieve this, this input is activated one time step before the other input. If both were activated at the same time step the selection decision would be random. The DNF may then select the \"wrong\" input and the example would not work."
   ]
  },
  {
   "cell_type": "code",
   "execution_count": null,
   "metadata": {
    "pycharm": {
     "name": "#%%\n"
    }
   },
   "outputs": [],
   "source": [
    "from lava.lib.dnf.kernels.kernels import SelectiveKernel\n",
    "\n",
    "class SelectiveArchitecture(Architecture):\n",
    "    \"\"\"Class that overrides the run function to specify a different input\n",
    "    structure.\"\"\"\n",
    "    def run(self):\n",
    "        # Run the network and make changes to spike inputs over time\n",
    "        self.dnf.run(condition=RunSteps(num_steps=99), run_cfg=self.run_cfg)\n",
    "        self.gauss_pattern_1.amplitude = 10000\n",
    "        self.dnf.run(condition=RunSteps(num_steps=1), run_cfg=self.run_cfg)\n",
    "        self.gauss_pattern_2.amplitude = 10000\n",
    "        self.dnf.run(condition=RunSteps(num_steps=100), run_cfg=self.run_cfg)\n",
    "        self.gauss_pattern_1.amplitude = 0\n",
    "        self.dnf.run(condition=RunSteps(num_steps=100), run_cfg=self.run_cfg)\n",
    "        self.gauss_pattern_1.amplitude = 10000\n",
    "        self.dnf.run(condition=RunSteps(num_steps=100), run_cfg=self.run_cfg)\n",
    "        self.gauss_pattern_2.amplitude = 0\n",
    "        self.dnf.run(condition=RunSteps(num_steps=100), run_cfg=self.run_cfg)\n",
    "        self.gauss_pattern_2.amplitude = 10000\n",
    "        self.dnf.run(condition=RunSteps(num_steps=100), run_cfg=self.run_cfg)\n",
    "        self.gauss_pattern_1.amplitude = 0\n",
    "        self.gauss_pattern_2.amplitude = 0\n",
    "        self.dnf.run(condition=RunSteps(num_steps=100), run_cfg=self.run_cfg)\n",
    "\n",
    "\n",
    "selection_kernel = SelectiveKernel(amp_exc=20, \n",
    "                                   width_exc=2.25, \n",
    "                                   global_inh=-15)\n",
    "\n",
    "architecture = SelectiveArchitecture(selection_kernel)\n",
    "architecture.run()\n",
    "architecture.plot()"
   ]
  }
 ],
 "metadata": {
  "kernelspec": {
   "display_name": "Python 3 (ipykernel)",
   "language": "python",
   "name": "python3"
  },
  "language_info": {
   "codemirror_mode": {
    "name": "ipython",
    "version": 3
   },
   "file_extension": ".py",
   "mimetype": "text/x-python",
   "name": "python",
   "nbconvert_exporter": "python",
   "pygments_lexer": "ipython3",
   "version": "3.8.8"
  }
 },
 "nbformat": 4,
 "nbformat_minor": 1
}
