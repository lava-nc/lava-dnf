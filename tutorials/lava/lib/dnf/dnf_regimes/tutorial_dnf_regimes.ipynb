{
 "cells": [
  {
   "cell_type": "markdown",
   "metadata": {},
   "source": [
    "*Copyright (C) 2021 Intel Corporation*<br>\n",
    "*SPDX-License-Identifier: BSD-3-Clause*<br>\n",
    "*See: https://spdx.org/licenses/*\n",
    "\n",
    "---\n",
    "\n",
    "## DNF regimes\n",
    "\n",
    "The following examples demonstrate the fundamental regimes of\n",
    "DNFs and their associated instabilities that are the basis for all\n",
    "macroscopic behavior of architectures.\n"
   ]
  },
  {
   "cell_type": "code",
   "execution_count": null,
   "metadata": {},
   "outputs": [],
   "source": [
    "from lava.proc.lif.process import LIF\n",
    "from lava.lib.dnf.connect.connect import connect\n",
    "from lava.lib.dnf.operations.operations import Weights\n",
    "from lava.lib.dnf.operations.operations import Convolution\n",
    "from lava.lib.dnf.inputs.gauss_pattern.process import GaussPattern\n",
    "from lava.lib.dnf.inputs.rate_code_spike_gen.process import RateCodeSpikeGen\n",
    "\n",
    "from lava.magma.core.run_configs import Loihi1SimCfg\n",
    "from lava.magma.core.run_conditions import RunSteps\n",
    "from lava.proc.monitor.process import Monitor\n",
    "from lava.proc.monitor.models import PyMonitorModel\n",
    "\n",
    "from utils import plot_1d\n",
    "\n",
    "def demonstrate_regime(kernel):\n",
    "    shape = (15,)\n",
    "    time_steps = 600\n",
    "\n",
    "    # Set up spike generator 1\n",
    "    gauss_pattern_1 = GaussPattern(shape=shape,\n",
    "                                   amplitude=0,\n",
    "                                   mean=11.25,\n",
    "                                   stddev=2.25)\n",
    "    spike_generator_1 = RateCodeSpikeGen(shape=shape)\n",
    "    gauss_pattern_1.a_out.connect(spike_generator_1.a_in)\n",
    "\n",
    "    # Set up spike generator 2\n",
    "    gauss_pattern_2 = GaussPattern(shape=shape,\n",
    "                                   amplitude=0,\n",
    "                                   mean=3.75,\n",
    "                                   stddev=2.25)\n",
    "    spike_generator_2 = RateCodeSpikeGen(shape=shape)\n",
    "    gauss_pattern_2.a_out.connect(spike_generator_2.a_in)\n",
    "\n",
    "    # DNF with specified kernel\n",
    "    dnf = LIF(shape=shape, du=409, dv=2047, vth=200)\n",
    "    connect(dnf.s_out, dnf.a_in, [Convolution(kernel)])\n",
    "\n",
    "    # Connect spike input to DNF\n",
    "    connect(spike_generator_1.s_out, dnf.a_in, [Weights(25)])\n",
    "    connect(spike_generator_2.s_out, dnf.a_in, [Weights(25)])\n",
    "\n",
    "    # Set up monitors\n",
    "    monitor_dnf = Monitor()\n",
    "    monitor_dnf.probe(target=dnf.s_out, num_steps=time_steps)\n",
    "    monitor_input1 = Monitor()\n",
    "    monitor_input1.probe(spike_generator_1.s_out, time_steps)\n",
    "    monitor_input2 = Monitor()\n",
    "    monitor_input2.probe(spike_generator_2.s_out, time_steps)\n",
    "\n",
    "    # Run the network and make changes to spike inputs over time\n",
    "    condition = RunSteps(num_steps=100)\n",
    "    run_cfg = Loihi1SimCfg(select_tag=\"fixed_pt\",\n",
    "                           exception_proc_model_map={Monitor: PyMonitorModel})\n",
    "    spike_generator_1.run(condition=condition, run_cfg=run_cfg)\n",
    "    gauss_pattern_1.amplitude = 2300\n",
    "    gauss_pattern_2.amplitude = 2300\n",
    "    spike_generator_1.run(condition=condition, run_cfg=run_cfg)\n",
    "    gauss_pattern_1.amplitude = 11200\n",
    "    gauss_pattern_2.amplitude = 11200\n",
    "    spike_generator_1.run(condition=condition, run_cfg=run_cfg)\n",
    "    gauss_pattern_1.amplitude = 2300\n",
    "    gauss_pattern_2.amplitude = 2300\n",
    "    spike_generator_1.run(condition=RunSteps(num_steps=200), run_cfg=run_cfg)\n",
    "    gauss_pattern_1.amplitude = 0\n",
    "    gauss_pattern_2.amplitude = 0\n",
    "    spike_generator_1.run(condition=condition, run_cfg=run_cfg)\n",
    "\n",
    "    # Get probed data from monitors\n",
    "    data_dnf = monitor_dnf.get_data()[dnf.name][dnf.s_out.name]\n",
    "    data_input1 = monitor_input1.get_data()[spike_generator_1.name][spike_generator_1.s_out.name]\n",
    "    data_input2 = monitor_input2.get_data()[spike_generator_2.name][spike_generator_2.s_out.name]\n",
    "\n",
    "    # Stop the execution of the network\n",
    "    spike_generator_1.stop()\n",
    "\n",
    "    # Plot the probed data\n",
    "    plot_1d(data_dnf,\n",
    "            data_input1,\n",
    "            data_input2)"
   ]
  },
  {
   "cell_type": "markdown",
   "metadata": {},
   "source": [
    "### Detection\n",
    "\n",
    "This example demonstrates the _detection instability_ of DNFs. The DNF receives spike input at two locations, whose spike rate changes over time. Between time step 100 and 200, the spike rate is not high enough for the DNF to form a peak and it does not spike. When the input spike rate is increased after time step 200, the DNF goes through the _detection instability_, forming a peak and producing spike output. When the input spike rate is lowered back to its previous value, the DNF keeps spiking and its peak remains stable. This demonstrates hysteresis of detection - the DNF stabilizes its decision about detecting an input. Only when the input is completely removed at time step 500 does the peak disappear in the _reverse detection instability_.\n"
   ]
  },
  {
   "cell_type": "code",
   "execution_count": null,
   "metadata": {
    "pycharm": {
     "name": "#%%\n"
    }
   },
   "outputs": [],
   "source": [
    "from lava.lib.dnf.kernels.kernels import MultiPeakKernel\n",
    "\n",
    "detection_kernel = MultiPeakKernel(amp_exc=83, \n",
    "                                   width_exc=3.75, \n",
    "                                   amp_inh=-70,\n",
    "                                   width_inh=7.5)\n",
    "\n",
    "demonstrate_regime(detection_kernel)"
   ]
  },
  {
   "cell_type": "markdown",
   "metadata": {},
   "source": [
    "### Selection\n",
    "\n",
    "This example demonstrates the _selection instability_ of a DNF. With spike input at two locations, the DNF makes a selection decision at time step 100, creating a peak at only one of the input locations. That decision remains stable even though two inputs are present simultaneously for the subsequent 100 time steps. The selection switches only when the first input is deactivates at time step 200. It then remains stable on the second input location even as the first input is activated again at time step 300. This demonstrates hysteresis of selection - the DNF stabilizes its selection decision. The same behavior is demonstrated again between time step 400 and 600 for the first input.\n",
    "\n",
    "Note: The selection is biased/forced here to always be on the input centered on neuron 11 to fit the structure of the input. To achieve this, this input is activated one time step before the other input. If both were activated at the same time step the selection decision would be random. The DNF may then select the \"wrong\" input and the example would not work."
   ]
  },
  {
   "cell_type": "code",
   "execution_count": null,
   "metadata": {
    "pycharm": {
     "name": "#%%\n"
    }
   },
   "outputs": [],
   "source": [
    "from lava.lib.dnf.kernels.kernels import SelectiveKernel\n",
    "\n",
    "selection_kernel = SelectiveKernel(amp_exc=20, \n",
    "                                   width_exc=2.25, \n",
    "                                   global_inh=-15)\n",
    "\n",
    "demonstrate_regime(selection_kernel)"
   ]
  },
  {
   "cell_type": "markdown",
   "metadata": {},
   "source": [
    "### Memory\n",
    "\n",
    "This example demonstrates the memory property of DNFs. The input and connectivity is structured like in the example on 'detection' above but here the local excitation is stronger. This leads to the two peaks in the DNF to remain stable even after the input is deactivated in time step 400. The DNF has thus formed a memory of the inputs being present at those locations. Even though such self-sustained peaks are stable without input, they may track present input that changes its location in a graded manner."
   ]
  },
  {
   "cell_type": "code",
   "execution_count": null,
   "metadata": {
    "pycharm": {
     "name": "#%%\n"
    }
   },
   "outputs": [],
   "source": [
    "memory_kernel = MultiPeakKernel(amp_exc=32, \n",
    "                                width_exc=2.5, \n",
    "                                amp_inh=-18, \n",
    "                                width_inh=4.5)\n",
    "\n",
    "demonstrate_regime(memory_kernel)"
   ]
  }
 ],
 "metadata": {
  "kernelspec": {
   "display_name": "Python 3 (ipykernel)",
   "language": "python",
   "name": "python3"
  },
  "language_info": {
   "codemirror_mode": {
    "name": "ipython",
    "version": 3
   },
   "file_extension": ".py",
   "mimetype": "text/x-python",
   "name": "python",
   "nbconvert_exporter": "python",
   "pygments_lexer": "ipython3",
   "version": "3.8.10"
  }
 },
 "nbformat": 4,
 "nbformat_minor": 1
}
