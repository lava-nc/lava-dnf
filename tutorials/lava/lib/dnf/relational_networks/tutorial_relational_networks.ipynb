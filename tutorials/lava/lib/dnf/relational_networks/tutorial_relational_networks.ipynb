{
 "cells": [
  {
   "cell_type": "markdown",
   "metadata": {},
   "source": [
    "*Copyright (C) 2022 Intel Corporation*<br>\n",
    "*SPDX-License-Identifier: BSD-3-Clause*<br>\n",
    "*See: https://spdx.org/licenses/*\n",
    "\n",
    "---\n",
    "\n",
    "# Relational networks\n",
    "\n",
    "This tutorial demonstrates how to set up a relational network with lava-dnf.\n",
    "\n",
    "Relational networks are a network topology composed of DNFs that enables representing relational features, for example the difference/error between two represented values. In DFT, relational networks are one of the major building blocks of larger architectures, most often employed to implement coordinate transforms between different spaces (e.g., retinal vs. allocentric visual space).\n",
    "\n",
    "![Diagram relational network](./diagram_relational_network.png)\n",
    "\n",
    "The figure above illustrates the network topology. Two 1D DNFs, ‘target’ and ‘reference’, are input into a 2D-dimensional ‘transformation’ DNF that represents all possible combinations of the positions in the two DNFs. The 1D DNFs project into the ‘transformation’ DNF, forming subthreshold ridges of activation; only regions in which the ridges overlap form peaks. This activation projects along the diagonal onto the ‘relational’ DNF. The peaks that form there represent the peak-positions in the ‘target’ DNF relative to the position of the peak-position in the ‘reference’ DNF (center of the ‘relational’ DNF).\n",
    "The diagram visualizes an example with one-dimensional input and output DNFs but the same concept can be applied to higher-dimensional input/output."
   ]
  },
  {
   "cell_type": "code",
   "execution_count": 1,
   "metadata": {
    "scrolled": false
   },
   "outputs": [],
   "source": [
    "import numpy as np\n",
    "import matplotlib.pyplot as plt\n",
    "from lava.proc.io.sink import RingBuffer\n",
    "from lava.magma.core.run_configs import Loihi1SimCfg,Loihi2HwCfg\n",
    "from lava.magma.core.run_conditions import RunSteps\n",
    "from lava.proc.lif.process import LIF\n",
    "from lava.proc.dense.process import Dense\n",
    "from lava.proc.monitor.process import Monitor\n",
    "from lava.lib.dnf.connect.connect import connect\n",
    "from lava.lib.dnf.inputs.gauss_pattern.process import GaussPattern\n",
    "from lava.lib.dnf.inputs.rate_code_spike_gen.process import \\\n",
    "    RateCodeSpikeGen\n",
    "from lava.lib.dnf.operations.operations import (\n",
    "    Weights,\n",
    "    ExpandDims,\n",
    "    ReorderDims,\n",
    "    ReduceAlongDiagonal,\n",
    "    ExpandAlongDiagonal,\n",
    "    Flip)"
   ]
  },
  {
   "cell_type": "markdown",
   "metadata": {},
   "source": [
    "## Check whether Loihi 2 is available"
   ]
  },
  {
   "cell_type": "code",
   "execution_count": 2,
   "metadata": {},
   "outputs": [
    {
     "name": "stdout",
     "output_type": "stream",
     "text": [
      "Running on oheogulch\n"
     ]
    }
   ],
   "source": [
    "from lava.utils.system import Loihi2\n",
    "Loihi2.preferred_partition = 'oheogulch'\n",
    "loihi2_is_available = Loihi2.is_loihi2_available\n",
    "\n",
    "if loihi2_is_available:\n",
    "    print(f'Running on {Loihi2.partition}')\n",
    "    from lava.proc.embedded_io.spike import PyToNxAdapter, NxToPyAdapter\n",
    "    from lava.lib.dnf.tutorials.relational_networks.c_reader import Reader\n",
    "    \n",
    "else:\n",
    "    print(\"Loihi2 compiler is not available in this system. \"\n",
    "          \"This tutorial will execute on CPU backend.\")"
   ]
  },
  {
   "cell_type": "markdown",
   "metadata": {},
   "source": [
    "## Setting up and running the Relational Network\n",
    "In lava-dnf, relational networks can be constructed from basic Lava Processes, like the LIF Processes, and connectivity structures that can be generated with the `connect` function from lava-dnf. The following example demonstrates a relational network with one-dimensional input. The Network below can either be run in simulation or on Loihi 2. "
   ]
  },
  {
   "cell_type": "code",
   "execution_count": 3,
   "metadata": {
    "pycharm": {
     "name": "#%%\n"
    },
    "scrolled": true
   },
   "outputs": [
    {
     "name": "stdout",
     "output_type": "stream",
     "text": [
      "Per core distribution:\n",
      "----------------------------------------------------------------\n",
      "| AxonIn |NeuronGr| Neurons|Synapses| AxonMap| AxonMem|  Cores |\n",
      "|--------------------------------------------------------------|\n",
      "|     225|       1|      29|    2025|      29|       0|       1|\n",
      "|      59|       1|     225|    3127|     225|       0|       1|\n",
      "|      15|       1|      15|      75|      15|       0|       1|\n",
      "|      15|       1|      15|      75|      15|       0|       1|\n",
      "|--------------------------------------------------------------|\n",
      "| Total                                               |       4|\n",
      "----------------------------------------------------------------\n"
     ]
    }
   ],
   "source": [
    "shape = (15,)\n",
    "shape_relational = tuple(np.array(shape) * 2 - 1)\n",
    "num_time_steps = 100\n",
    "\n",
    "# Set up Processes that provide Input to the Relational Network\n",
    "gauss_target = GaussPattern(shape=shape, amplitude=5000, mean=8, stddev=0.1)\n",
    "sg_target = RateCodeSpikeGen(shape=shape)\n",
    "\n",
    "gauss_reference = GaussPattern(shape=shape, amplitude=5000, mean=5, stddev=0.1)\n",
    "sg_reference = RateCodeSpikeGen(shape=shape)\n",
    "\n",
    "input_dense_target = Dense(weights=np.eye(shape[0]) * 25)\n",
    "input_dense_reference = Dense(weights=np.eye(shape[0]) * 25)\n",
    "\n",
    "# Set up Processes that constitute the Relational Network\n",
    "target = LIF(shape=shape, du=409, dv=2045, vth=200)\n",
    "reference = LIF(shape=shape, du=409, dv=2045, vth=200)\n",
    "transformation = LIF(shape=shape + shape, du=409, dv=2045, vth=200)\n",
    "relational = LIF(shape=shape_relational, du=409, dv=2045, vth=200)\n",
    "\n",
    "# Set up RingBuffer Processes to store Variable Evolutions/Spike Activity (later used for plotting)\n",
    "py_rec_target = RingBuffer(shape=shape, buffer=num_time_steps)\n",
    "py_rec_reference = RingBuffer(shape=shape, buffer=num_time_steps)\n",
    "py_rec_relational = RingBuffer(shape=shape_relational, buffer=num_time_steps)\n",
    "py_rec_transformation = RingBuffer(shape=shape+shape, buffer=num_time_steps)\n",
    "\n",
    "# On Loihi 2 we additionally need CProcesses to bridge input from Python via LMT to the NeuroCore and back:\n",
    "if loihi2_is_available:\n",
    "    injector_target = PyToNxAdapter(shape=shape)\n",
    "    injector_reference = PyToNxAdapter(shape=shape)\n",
    "    spike_reader = Reader(shape_target=shape,\n",
    "                          shape_reference=shape,\n",
    "                          shape_relational=shape_relational,\n",
    "                          shape_transformation=shape+shape)\n",
    "\n",
    "# Make Connections\n",
    "# Connect Gauss Pattern to Spike Generators\n",
    "gauss_target.a_out.connect(sg_target.a_in)\n",
    "gauss_reference.a_out.connect(sg_reference.a_in)\n",
    "\n",
    "# On Loihi 2 the input needs to be sent via LMT to reach the corresponding dense processes.\n",
    "# In Simulation we can directly connect the generated spike input to the corresponding dense processes.\n",
    "if loihi2_is_available:\n",
    "    sg_target.s_out.connect(injector_target.inp)\n",
    "    sg_reference.s_out.connect(injector_reference.inp)\n",
    "    injector_target.out.connect(input_dense_target.s_in)\n",
    "    injector_reference.out.connect(input_dense_reference.s_in)\n",
    "else:\n",
    "    sg_target.s_out.connect(input_dense_target.s_in)\n",
    "    sg_reference.s_out.connect(input_dense_reference.s_in)\n",
    "\n",
    "input_dense_target.a_out.connect(target.a_in)\n",
    "input_dense_reference.a_out.connect(reference.a_in)\n",
    "\n",
    "# Make Relational Network Connections\n",
    "connect(target.s_out, transformation.a_in,\n",
    "        ops=[ExpandDims(new_dims_shape=shape[0]),\n",
    "             Weights(10)])\n",
    "connect(reference.s_out, transformation.a_in,\n",
    "        ops=[Flip(),\n",
    "             ExpandDims(new_dims_shape=shape[0]),\n",
    "             ReorderDims(order=(1, 0)),\n",
    "             Weights(10)])\n",
    "weights_reduce_diag = connect(transformation.s_out, relational.a_in,\n",
    "                              ops=[ReduceAlongDiagonal(), Weights(25)])\n",
    "weights_expand_diag = connect(relational.s_out, transformation.a_in,\n",
    "                              ops=[ExpandAlongDiagonal(), Weights(5)])\n",
    "\n",
    "# On Loihi 2 spikes need to go via LMT from the NeuroCore to RingBuffers.\n",
    "# For all LIF populations we want to read out spike rates. Except for the Transformation field,\n",
    "# for which we later plot the voltage.\n",
    "if loihi2_is_available:\n",
    "    target.s_out.connect(spike_reader.in_target)\n",
    "    relational.s_out.connect(spike_reader.in_relational)\n",
    "    reference.s_out.connect(spike_reader.in_reference)\n",
    "    spike_reader.ref_transformation.connect_var(transformation.v)\n",
    "\n",
    "    spike_reader.out_target.connect(py_rec_target.a_in)\n",
    "    spike_reader.out_relational.connect(py_rec_relational.a_in)\n",
    "    spike_reader.out_transformation.connect(py_rec_transformation.a_in)\n",
    "    spike_reader.out_reference.connect(py_rec_reference.a_in)\n",
    "    \n",
    "else:\n",
    "    target.s_out.connect(py_rec_target.a_in)\n",
    "    relational.s_out.connect(py_rec_relational.a_in)\n",
    "    reference.s_out.connect(py_rec_reference.a_in)\n",
    "    monitor_transformation = Monitor()\n",
    "    monitor_transformation.probe(transformation.v, num_time_steps)\n",
    "\n",
    "# Execution\n",
    "if loihi2_is_available:\n",
    "    run_cfg = Loihi2HwCfg()\n",
    "else: \n",
    "    run_cfg=Loihi1SimCfg(select_tag=\"fixed_pt\")\n",
    "try:\n",
    "    target.run(condition=RunSteps(num_steps=num_time_steps),\n",
    "               run_cfg=run_cfg)\n",
    "\n",
    "    # Extract data from RingBuffers\n",
    "    data_target = py_rec_target.data.get().transpose()\n",
    "    data_reference = py_rec_reference.data.get().transpose()\n",
    "    data_relational = py_rec_relational.data.get().transpose()\n",
    "    \n",
    "    # Variable probing currently still works differently in simulation vs.on Loihi 2 Hardware\n",
    "    if loihi2_is_available:\n",
    "        data_transformation = py_rec_transformation.data.get().transpose()\n",
    "    else:\n",
    "         data_transformation = monitor_transformation.get_data() \\\n",
    "        [transformation.name][transformation.v.name].astype(float)\n",
    "\n",
    "finally:\n",
    "    target.stop()"
   ]
  },
  {
   "cell_type": "code",
   "execution_count": 4,
   "metadata": {
    "scrolled": false
   },
   "outputs": [
    {
     "data": {
      "image/png": "[encoded data removed]",
      "text/plain": [
       "<Figure size 720x720 with 4 Axes>"
      ]
     },
     "metadata": {
      "needs_background": "light"
     },
     "output_type": "display_data"
    }
   ],
   "source": [
    "# Plot data\n",
    "_num_neurons = shape[0]\n",
    "_num_neurons_relational = shape_relational[0]\n",
    "\n",
    "plt.figure(figsize=(10, 10))\n",
    "ax0 = plt.subplot(4, 1, 1)\n",
    "ax0.plot(np.mean(data_target[50:70, :], axis=0))\n",
    "ax0.set_xlabel('Target neuron idx')\n",
    "ax0.set_ylabel('Spike rate')\n",
    "ax0.set_xticks(range(_num_neurons))\n",
    "ax0.set_title('Target')\n",
    "\n",
    "ax1 = plt.subplot(4, 1, 2)\n",
    "ax1.plot(np.mean(data_reference[50:70, :], axis=0))\n",
    "ax1.set_xlabel('Reference neuron idx')\n",
    "ax1.set_ylabel('Spike rate')\n",
    "ax1.set_xticks(range(_num_neurons))\n",
    "ax1.set_title('Reference')\n",
    "\n",
    "ax2 = plt.subplot(4, 1, 3)\n",
    "ax2.imshow(np.mean(data_transformation[50:70, :],\n",
    "                   axis=0).reshape(shape + shape))\n",
    "ax2.set_title('Transformation (Voltage)')\n",
    "ax2.set_xlabel('Reference position')\n",
    "ax2.set_ylabel('Target position')\n",
    "ax2.set_xticks(range(0, _num_neurons, 5))\n",
    "ax2.set_yticks(range(0, _num_neurons, 5))\n",
    "\n",
    "ax3 = plt.subplot(4, 1, 4)\n",
    "ax3.plot(np.mean(data_relational[50:70], axis=0))\n",
    "ax3.set_xlabel('Relative position')\n",
    "ax3.set_ylabel('Spike rate')\n",
    "ax3.set_title('Relational')\n",
    "plt.xticks(ticks=range(_num_neurons_relational),\n",
    "           labels=range(-int(_num_neurons_relational/2),\n",
    "                        int(_num_neurons_relational/2) + 1))\n",
    "\n",
    "plt.tight_layout()\n",
    "plt.show()"
   ]
  }
 ],
 "metadata": {
  "kernelspec": {
   "display_name": "Python 3 (ipykernel)",
   "language": "python",
   "name": "python3"
  },
  "language_info": {
   "codemirror_mode": {
    "name": "ipython",
    "version": 3
   },
   "file_extension": ".py",
   "mimetype": "text/x-python",
   "name": "python",
   "nbconvert_exporter": "python",
   "pygments_lexer": "ipython3",
   "version": "3.8.10"
  }
 },
 "nbformat": 4,
 "nbformat_minor": 1
}
