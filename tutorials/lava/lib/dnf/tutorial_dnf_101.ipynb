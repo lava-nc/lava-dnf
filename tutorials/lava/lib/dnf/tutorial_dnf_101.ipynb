{
 "cells": [
  {
   "cell_type": "markdown",
   "source": [
    "# DNF 101: Dynamic neural fields in Lava\n",
    "\n",
    "## Basic populations and connections\n",
    "\n",
    "Create populations of leaky integrate-and-fire (LIF) neurons.\n",
    "The `shape` argument determines the number of neurons and their layout."
   ],
   "metadata": {
    "collapsed": false
   }
  },
  {
   "cell_type": "code",
   "execution_count": null,
   "outputs": [],
   "source": [
    "from lava.lib.dnf.population.process import Population\n",
    "\n",
    "population = Population(shape=20)"
   ],
   "metadata": {
    "collapsed": false,
    "pycharm": {
     "name": "#%%\n"
    }
   }
  },
  {
   "cell_type": "markdown",
   "source": [
    "Create connections between populations using the `connect` function.\n",
    "The weights can be specified using a sequence of operations (see below)."
   ],
   "metadata": {
    "collapsed": false
   }
  },
  {
   "cell_type": "code",
   "execution_count": null,
   "outputs": [],
   "source": [
    "from lava.lib.dnf.connect.connect import connect\n",
    "from lava.lib.dnf.operations.operations import Weights\n",
    "\n",
    "population1 = Population(shape=20)\n",
    "population2 = Population(shape=20)\n",
    "connect(population1.s_out, population2.a_in, [Weights(20)])"
   ],
   "metadata": {
    "collapsed": false,
    "pycharm": {
     "name": "#%%\n"
    }
   }
  },
  {
   "cell_type": "markdown",
   "source": [
    "## Dynamic neural fields (DNF)\n",
    "\n",
    "### Multi-peak DNF\n",
    "\n",
    "Create dynamic neural fields (DNFs) that support multiple peaks by using the\n",
    "`MultiPeakKernel` with local excitation and mid-range inhibition. Use the\n",
    "`Convolution` operation to apply the kernel."
   ],
   "metadata": {
    "collapsed": false
   }
  },
  {
   "cell_type": "code",
   "execution_count": null,
   "outputs": [],
   "source": [
    "from lava.lib.dnf.kernels import MultiPeakKernel\n",
    "from lava.lib.dnf.operations.operations import Convolution\n",
    "from lava.lib.dnf.connect import connect\n",
    "\n",
    "dnf = Population(shape=20)\n",
    "\n",
    "kernel = MultiPeakKernel(amp_exc=25,\n",
    "                         width_exc=3,\n",
    "                         amp_inh=-15,\n",
    "                         width_inh=6)\n",
    "connect(dnf.s_out, dnf.a_in, [Convolution(kernel)])"
   ],
   "metadata": {
    "collapsed": false,
    "pycharm": {
     "name": "#%%\n"
    }
   }
  },
  {
   "cell_type": "markdown",
   "source": [
    "### Selective DNF\n",
    "\n",
    "Create DNFs that are selective and only create a single peak by using the\n",
    "`SelectiveKernel` with local excitation and global inhibition."
   ],
   "metadata": {
    "collapsed": false
   }
  },
  {
   "cell_type": "code",
   "execution_count": null,
   "outputs": [],
   "source": [
    "from lava.lib.dnf.kernels.kernels import SelectiveKernel\n",
    "\n",
    "dnf = Population(shape=20)\n",
    "\n",
    "kernel = SelectiveKernel(amp_exc=18,\n",
    "                         width_exc=3,\n",
    "                         global_inh=-15)\n",
    "connect(dnf.s_out, dnf.a_in, [Convolution(kernel)])"
   ],
   "metadata": {
    "collapsed": false,
    "pycharm": {
     "name": "#%%\n"
    }
   }
  },
  {
   "cell_type": "markdown",
   "source": [
    "## Input\n",
    "\n",
    "### Spike generators\n",
    "\n",
    "To simulate spike input to a DNF, use a spike generator. The\n",
    "`GaussPiecewiseStaticInput` creates spikes whose frequency\n",
    "is determined by a Gaussian function along the neurons of a DNF. Over time,\n",
    "that Gaussian is piecewise static but may change \"between pieces\". Each line\n",
    "specifies the parameters of the Gaussian for a duration of time."
   ],
   "metadata": {
    "collapsed": false
   }
  },
  {
   "cell_type": "code",
   "execution_count": null,
   "outputs": [],
   "source": [
    "from lava.lib.dnf.inputs import GaussPiecewiseStaticInput\n",
    "from lava.lib.dnf.operations.operations import Weights\n",
    "\n",
    "shape = 15\n",
    "\n",
    "pattern = [{'max_rate':   0, 'center': 5, 'width': 4, 'duration': 25},\n",
    "           {'max_rate': 100, 'center': 5, 'width': 4, 'duration': 50},\n",
    "           {'max_rate':   0, 'center': 5, 'width': 4, 'duration': 25}]\n",
    "gauss_input = GaussPiecewiseStaticInput(shape=shape,\n",
    "                                        spike_rate_pattern=pattern)\n",
    "\n",
    "dnf = Population(shape=shape)\n",
    "\n",
    "connect(gauss_input.s_out, dnf.a_in, [Weights(20)])"
   ],
   "metadata": {
    "collapsed": false,
    "pycharm": {
     "name": "#%%\n"
    }
   }
  },
  {
   "cell_type": "markdown",
   "source": [
    "\n",
    "## Running and plotting networks\n",
    "\n",
    "Wrap your model into a hierarchical process (here, called `Network`) and call\n",
    "its `run()` method, specifying the number of time steps to run for and the\n",
    "backend the model should run on. To enable plots, create probes before running\n",
    "and create plots with the probed data after running."
   ],
   "metadata": {
    "collapsed": false
   }
  },
  {
   "cell_type": "code",
   "execution_count": null,
   "outputs": [],
   "source": [
    "from lava.core.generic.process import Process\n",
    "from lava.core.generic.enums import Backend\n",
    "\n",
    "class Network(Process):\n",
    "    def _build(self):\n",
    "        shape=15\n",
    "\n",
    "        pattern = [{'max_rate':    0, 'center': 5, 'width': 4, 'duration': 25},\n",
    "                   {'max_rate': 5000, 'center': 5, 'width': 4, 'duration': 50},\n",
    "                   {'max_rate':    0, 'center': 5, 'width': 4, 'duration': 25}]\n",
    "        self.gauss_input = GaussPiecewiseStaticInput(shape=shape,\n",
    "                                                     spike_rate_pattern=pattern)\n",
    "\n",
    "        self.dnf = Population(shape=shape)\n",
    "\n",
    "        kernel = MultiPeakKernel(amp_exc=17,\n",
    "                                 width_exc=3,\n",
    "                                 amp_inh=-15,\n",
    "                                 width_inh=6)\n",
    "        connect(self.dnf.s_out, self.dnf.a_in, [Instar(kernel)])\n",
    "\n",
    "        connect(self.gauss_input.s_out, self.dnf.a_in, [OneToOne(20)])\n",
    "\n",
    "        self.dnf.build_probes()\n",
    "        self.gauss_input.build_probes()\n",
    "\n",
    "\n",
    "net = Network()\n",
    "net.run(num_steps=100, backend=Backend.TF)\n",
    "net.gauss_input.plot()\n",
    "net.dnf.plot()"
   ],
   "metadata": {
    "collapsed": false,
    "pycharm": {
     "name": "#%%\n"
    }
   }
  },
  {
   "cell_type": "markdown",
   "source": [
    "## DNF instabilities\n",
    "\n",
    "Examples demonstrating different dynamic regimes of DNFs can be found in the\n",
    "`demos` directory. Here are examples running three such demos for the\n",
    "detection, selection, and working memory regimes, all in 1D.\n",
    "\n",
    "### Detection"
   ],
   "metadata": {
    "collapsed": false
   }
  },
  {
   "cell_type": "code",
   "execution_count": null,
   "outputs": [],
   "source": [
    "from lava.lib.dnf.demos.dnf_basics.multi_peak_hysteresis_1d import Architecture\n",
    "\n",
    "net = Architecture()\n",
    "time_steps = 600\n",
    "net.run(time_steps, backend=Backend.TF)\n",
    "net.plot(time_steps)"
   ],
   "metadata": {
    "collapsed": false,
    "pycharm": {
     "name": "#%%\n"
    }
   }
  },
  {
   "cell_type": "markdown",
   "source": [
    "### Selection"
   ],
   "metadata": {
    "collapsed": false
   }
  },
  {
   "cell_type": "code",
   "execution_count": null,
   "outputs": [],
   "source": [
    "from lava.lib.dnf.demos.dnf_basics.selection_hysteresis_1d import Architecture\n",
    "\n",
    "net = Architecture()\n",
    "time_steps = 700\n",
    "net.run(time_steps, backend=Backend.TF)\n",
    "net.plot(time_steps)"
   ],
   "metadata": {
    "collapsed": false,
    "pycharm": {
     "name": "#%%\n"
    }
   }
  },
  {
   "cell_type": "markdown",
   "source": [
    "### Memory"
   ],
   "metadata": {
    "collapsed": false
   }
  },
  {
   "cell_type": "code",
   "execution_count": null,
   "outputs": [],
   "source": [
    "from lava.lib.dnf.demos.dnf_basics.multi_peak_sustained_1d import Architecture\n",
    "\n",
    "arch = Architecture()\n",
    "time_steps = 500\n",
    "arch.run(time_steps, backend=Backend.TF)\n",
    "arch.plot(time_steps)"
   ],
   "metadata": {
    "collapsed": false,
    "pycharm": {
     "name": "#%%\n"
    }
   }
  },
  {
   "cell_type": "markdown",
   "source": [
    "## Higher dimensions\n",
    "\n",
    "Define DNFs over higher dimensionalities by specifying a `shape` with\n",
    "multiple entries.\n",
    "\n",
    "##%\n",
    "\n",
    "shape = (15, 15)\n",
    "dnf = Population(shape=shape)\n",
    "\n",
    "##% md\n",
    "\n",
    "Inputs and kernels must match the dimensionality of the DNF; specify\n",
    "parameters such as `width` as vectors rather than scalars."
   ],
   "metadata": {
    "collapsed": false
   }
  },
  {
   "cell_type": "code",
   "execution_count": null,
   "outputs": [],
   "source": [
    "pattern = [{'max_rate':   0, 'center': [5, 5], 'width': [4, 4], 'duration': 25},\n",
    "           {'max_rate': 100, 'center': [5, 5], 'width': [4, 4], 'duration': 50},\n",
    "           {'max_rate':   0, 'center': [5, 5], 'width': [4, 4], 'duration': 25}]\n",
    "gauss_input = GaussPiecewiseStaticInput(shape=shape,\n",
    "                                        spike_rate_pattern=pattern)\n",
    "\n",
    "kernel = MultiPeakKernel(amp_exc=58,\n",
    "                         width_exc=[3.8, 3.8],\n",
    "                         amp_inh=-50,\n",
    "                         width_inh=[7.5, 7.5])\n",
    "connections = connect(dnf, dnf, [Instar(kernel)])\n",
    "\n",
    "connect(gauss_input, dnf, [OneToOne(20)])"
   ],
   "metadata": {
    "collapsed": false,
    "pycharm": {
     "name": "#%%\n"
    }
   }
  },
  {
   "cell_type": "markdown",
   "source": [
    "#### Example\n",
    "\n",
    "An example for a 2D DNF with input can be found in the `demos` directory."
   ],
   "metadata": {
    "collapsed": false
   }
  },
  {
   "cell_type": "code",
   "execution_count": null,
   "outputs": [],
   "source": [
    "from lava.lib.dnf.demos.dnf_basics.selection_hysteresis_2d import Architecture\n",
    "\n",
    "net = Architecture()\n",
    "time_steps = 350\n",
    "net.run(time_steps, backend=Backend.TF)\n",
    "net.plot(time_steps)"
   ],
   "metadata": {
    "collapsed": false,
    "pycharm": {
     "name": "#%%\n"
    }
   }
  },
  {
   "cell_type": "markdown",
   "source": [
    "## Larger architectures\n",
    "\n",
    "### One-to-one connections\n",
    "When connecting two DNFs that have the same shape (in terms of neurons and\n",
    "dimensions), use the operation `OneToOne`. It connects each neuron in the\n",
    "first DNF to its (single) respective neuron in the second DNF."
   ],
   "metadata": {
    "collapsed": false
   }
  },
  {
   "cell_type": "code",
   "execution_count": null,
   "outputs": [],
   "source": [
    "dnf1 = Population(shape=(10,))\n",
    "dnf2 = Population(shape=(10,))\n",
    "\n",
    "connect(dnf1, dnf2, [OneToOne(40)])"
   ],
   "metadata": {
    "collapsed": false,
    "pycharm": {
     "name": "#%%\n"
    }
   }
  },
  {
   "cell_type": "markdown",
   "source": [
    "### Projecting dimensions\n",
    "When connecting two DNFs with different dimensionality, use the operation\n",
    "`Projection` and specify how the dimensions should be mapped. Dimensions\n",
    "that are mapped onto each other must have the same number of neurons.\n",
    "In the following example, dimension 0 of `dnf_1d` is mapped onto dimension\n",
    "1 of `dnf_2d`."
   ],
   "metadata": {
    "collapsed": false
   }
  },
  {
   "cell_type": "code",
   "execution_count": null,
   "outputs": [],
   "source": [
    "from lava.lib.dnf.operations import Projection\n",
    "\n",
    "dnf_1d = Population(shape=(10,))\n",
    "dnf_2d = Population(shape=(20, 10))\n",
    "\n",
    "connect(dnf_1d, dnf_2d, [OneToOne(40), Projection(dmap={0: 1})])"
   ],
   "metadata": {
    "collapsed": false,
    "pycharm": {
     "name": "#%%\n"
    }
   }
  },
  {
   "cell_type": "markdown",
   "source": [
    "The full architecture is shown in the `demos` directory."
   ],
   "metadata": {
    "collapsed": false
   }
  },
  {
   "cell_type": "code",
   "execution_count": null,
   "outputs": [],
   "source": [
    "from lava.lib.dnf.demos.dnf_basics.projection_1d_to_2d import Architecture\n",
    "\n",
    "time_steps = 200\n",
    "net = Architecture(time_steps=time_steps)\n",
    "net.run(time_steps, backend=Backend.TF)\n",
    "net.plot(time_steps)"
   ],
   "metadata": {
    "collapsed": false,
    "pycharm": {
     "name": "#%%\n"
    }
   }
  }
 ],
 "metadata": {
  "kernelspec": {
   "display_name": "Python 3",
   "language": "python",
   "name": "python3"
  },
  "language_info": {
   "codemirror_mode": {
    "name": "ipython",
    "version": 2
   },
   "file_extension": ".py",
   "mimetype": "text/x-python",
   "name": "python",
   "nbconvert_exporter": "python",
   "pygments_lexer": "ipython2",
   "version": "2.7.6"
  }
 },
 "nbformat": 4,
 "nbformat_minor": 0
}