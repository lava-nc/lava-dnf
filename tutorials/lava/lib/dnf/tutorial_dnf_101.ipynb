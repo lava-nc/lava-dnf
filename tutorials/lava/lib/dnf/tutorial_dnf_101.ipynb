{
 "cells": [
  {
   "cell_type": "markdown",
   "source": [
    "# DNF 101: Dynamic neural fields in Lava\n",
    "\n",
    "## Basic populations and connections\n",
    "\n",
    "Create populations of leaky integrate-and-fire (LIF) neurons.\n",
    "The `shape` argument determines the number of neurons and their layout."
   ],
   "metadata": {
    "collapsed": false
   }
  },
  {
   "cell_type": "code",
   "execution_count": null,
   "outputs": [],
   "source": [
    "from lava.lib.dnf.population.process import Population\n",
    "\n",
    "population = Population(shape=20)"
   ],
   "metadata": {
    "collapsed": false,
    "pycharm": {
     "name": "#%%\n"
    }
   }
  },
  {
   "cell_type": "markdown",
   "source": [
    "Create connections between populations using the `connect()` function.\n",
    "The weights can be specified using a sequence of operations (see below)."
   ],
   "metadata": {
    "collapsed": false
   }
  },
  {
   "cell_type": "code",
   "execution_count": null,
   "outputs": [],
   "source": [
    "from lava.lib.dnf.population.process import Population\n",
    "from lava.lib.dnf.connect.connect import connect\n",
    "from lava.lib.dnf.operations.operations import Weights\n",
    "\n",
    "population1 = Population(shape=20)\n",
    "population2 = Population(shape=20)\n",
    "connect(population1.s_out, population2.a_in, [Weights(20)])"
   ],
   "metadata": {
    "collapsed": false,
    "pycharm": {
     "name": "#%%\n"
    }
   }
  },
  {
   "cell_type": "markdown",
   "source": [
    "## Dynamic neural fields (DNF)\n",
    "\n",
    "### Multi-peak DNF\n",
    "\n",
    "Create dynamic neural fields (DNFs) that support multiple peaks by using the\n",
    "`MultiPeakKernel` with local excitation and mid-range inhibition. Use the\n",
    "`Convolution` operation to apply the kernel."
   ],
   "metadata": {
    "collapsed": false
   }
  },
  {
   "cell_type": "code",
   "execution_count": null,
   "outputs": [],
   "source": [
    "from lava.lib.dnf.population.process import Population\n",
    "from lava.lib.dnf.kernels.kernels import MultiPeakKernel\n",
    "from lava.lib.dnf.operations.operations import Convolution\n",
    "from lava.lib.dnf.connect.connect import connect\n",
    "\n",
    "dnf = Population(shape=20)\n",
    "\n",
    "kernel = MultiPeakKernel(amp_exc=25,\n",
    "                         width_exc=3,\n",
    "                         amp_inh=-15,\n",
    "                         width_inh=6)\n",
    "connect(dnf.s_out, dnf.a_in, [Convolution(kernel)])"
   ],
   "metadata": {
    "collapsed": false,
    "pycharm": {
     "name": "#%%\n"
    }
   }
  },
  {
   "cell_type": "markdown",
   "source": [
    "### Selective DNF\n",
    "\n",
    "Create DNFs that are selective and only create a single peak by using the\n",
    "`SelectiveKernel` with local excitation and global inhibition."
   ],
   "metadata": {
    "collapsed": false
   }
  },
  {
   "cell_type": "code",
   "execution_count": null,
   "outputs": [],
   "source": [
    "from lava.lib.dnf.population.process import Population\n",
    "from lava.lib.dnf.kernels.kernels import SelectiveKernel\n",
    "from lava.lib.dnf.operations.operations import Convolution\n",
    "from lava.lib.dnf.connect.connect import connect\n",
    "\n",
    "dnf = Population(shape=20)\n",
    "\n",
    "kernel = SelectiveKernel(amp_exc=18,\n",
    "                         width_exc=3,\n",
    "                         global_inh=-15)\n",
    "connect(dnf.s_out, dnf.a_in, [Convolution(kernel)])"
   ],
   "metadata": {
    "collapsed": false,
    "pycharm": {
     "name": "#%%\n"
    }
   }
  },
  {
   "cell_type": "markdown",
   "source": [
    "## Input\n",
    "\n",
    "### Spike generators\n",
    "\n",
    "To simulate spike input to a DNF, use a `RateCodeSpikeGen` Process. It\n",
    "generates spikes with a spike rate pattern that can be specified, for\n",
    "instance by using the `GaussPattern` Process. Connect the `RateCodeSpikeGen` to\n",
    " a DNF with the `connect()` function. You may change parameters of the\n",
    " `GaussPattern` during runtime."
   ],
   "metadata": {
    "collapsed": false
   }
  },
  {
   "cell_type": "code",
   "execution_count": null,
   "outputs": [],
   "source": [
    "from lava.lib.dnf.population.process import Population\n",
    "from lava.lib.dnf.inputs.gauss_pattern.process import GaussPattern\n",
    "from lava.lib.dnf.inputs.spike_generator.process import RateCodeSpikeGen\n",
    "from lava.lib.dnf.operations.operations import Weights\n",
    "from lava.lib.dnf.connect.connect import connect\n",
    "\n",
    "shape = 15\n",
    "# produces a pattern of spike rates for the spike generator\n",
    "gauss_pattern = GaussPattern(shape=shape, amplitude=100, mean=5, stddev=5)\n",
    "# produces spikes based on the given spike rates\n",
    "spike_generator = RateCodeSpikeGen(shape=shape)\n",
    "gauss_pattern.a_out.connect(spike_generator.a_in)\n",
    "\n",
    "# connect spike generator to a population\n",
    "dnf = Population(shape=20)\n",
    "connect(spike_generator.s_out, dnf.a_in, [Weights(20)])\n",
    "\n",
    "# [...start running the network...] (see below)\n",
    "\n",
    "gauss_pattern.amplitude = 50  # you may change the parameters during runtime"
   ],
   "metadata": {
    "collapsed": false,
    "pycharm": {
     "name": "#%%\n"
    }
   }
  },
  {
   "cell_type": "markdown",
   "source": [
    "## Higher dimensions\n",
    "\n",
    "Define DNFs and inputs over higher dimensionalities by specifying a `shape` with\n",
    "multiple entries."
   ],
   "metadata": {
    "collapsed": false
   }
  },
  {
   "cell_type": "code",
   "execution_count": null,
   "outputs": [],
   "source": [
    "shape = (15, 15)\n",
    "dnf = Population(shape=shape)"
   ],
   "metadata": {
    "collapsed": false,
    "pycharm": {
     "name": "#%%\n"
    }
   }
  },
  {
   "cell_type": "markdown",
   "source": [
    "Inputs and kernels must match the dimensionality of the DNF; specify\n",
    "parameters such as `width_exc` as vectors rather than scalars."
   ],
   "metadata": {
    "collapsed": false
   }
  },
  {
   "cell_type": "code",
   "execution_count": null,
   "outputs": [],
   "source": [
    "gauss_pattern = GaussPattern(shape=shape,\n",
    "                             amplitude=100,\n",
    "                             mean=[5, 5],\n",
    "                             stddev=[4, 4])\n",
    "spike_generator = RateCodeSpikeGen(shape=shape)\n",
    "gauss_pattern.s_out.connect(spike_generator.a_in)\n",
    "\n",
    "kernel = MultiPeakKernel(amp_exc=58,\n",
    "                         width_exc=[3.8, 3.8],\n",
    "                         amp_inh=-50,\n",
    "                         width_inh=[7.5, 7.5])\n",
    "connect(dnf.s_out, dnf.a_in, [Convolution(kernel)])\n",
    "\n",
    "connect(spike_generator.s_out, dnf.a_in, [Weights(20)])"
   ],
   "metadata": {
    "collapsed": false,
    "pycharm": {
     "name": "#%%\n"
    }
   }
  },
  {
   "cell_type": "markdown",
   "source": [
    "## Larger architectures\n",
    "\n",
    "### One-to-one connections\n",
    "When connecting two DNFs that have the same shape (in terms of neurons and\n",
    "dimensions), use the operation `Weights`. It connects each neuron in the\n",
    "first DNF to its (single) respective neuron in the second DNF."
   ],
   "metadata": {
    "collapsed": false
   }
  },
  {
   "cell_type": "code",
   "execution_count": null,
   "outputs": [],
   "source": [
    "dnf1 = Population(shape=(10,))\n",
    "dnf2 = Population(shape=(10,))\n",
    "\n",
    "connect(dnf1, dnf2, [Weights(40)])"
   ],
   "metadata": {
    "collapsed": false,
    "pycharm": {
     "name": "#%%\n"
    }
   }
  },
  {
   "cell_type": "markdown",
   "source": [
    "### Reducing dimensions\n",
    "When the dimensionality of the source DNF is larger than that of\n",
    "the target DNF, use the `ReduceDims` operation, specifying the indices of the\n",
    " dimensions that should be removed and how to remove them."
   ],
   "metadata": {
    "collapsed": false
   }
  },
  {
   "cell_type": "code",
   "execution_count": null,
   "outputs": [],
   "source": [
    "from lava.lib.dnf.operations.operations import ReduceDims\n",
    "\n",
    "dnf_2d = Population(shape=(20, 10,))\n",
    "dnf_1d = Population(shape=(20,))\n",
    "\n",
    "connect(dnf_2d.s_out, dnf_1d.a_in, [Weights(40), ReduceDims(reduce_dims=0)])"
   ],
   "metadata": {
    "collapsed": false,
    "pycharm": {
     "name": "#%%\n"
    }
   }
  },
  {
   "cell_type": "markdown",
   "source": [
    "### Expanding dimensions\n",
    "When the dimensionality of the source DNF is smaller than that of the target\n",
    "DNF, use the `ExpandDims` operation, speciying the number of neurons of the\n",
    "dimensions that will be added."
   ],
   "metadata": {
    "collapsed": false
   }
  },
  {
   "cell_type": "code",
   "execution_count": null,
   "outputs": [],
   "source": [
    "from lava.lib.dnf.operations.operations import ExpandDims\n",
    "\n",
    "dnf_1d = Population(shape=(20,))\n",
    "dnf_2d = Population(shape=(20, 10))\n",
    "\n",
    "connect(dnf_2d.s_out, dnf_1d.a_in, [Weights(40),\n",
    "                                    ExpandDims(new_dims_shape=10)])"
   ],
   "metadata": {
    "collapsed": false,
    "pycharm": {
     "name": "#%%\n"
    }
   }
  },
  {
   "cell_type": "markdown",
   "source": [
    "### Reordering dimensions\n",
    "To reorder dimensions, use the `Reorder` operation, specifying the new order\n",
    "of the indices."
   ],
   "metadata": {
    "collapsed": false
   }
  },
  {
   "cell_type": "code",
   "execution_count": null,
   "outputs": [],
   "source": [
    "from lava.lib.dnf.operations.operations import Reorder\n",
    "\n",
    "dnf_1d = Population(shape=(10, 20))\n",
    "dnf_2d = Population(shape=(20, 10))\n",
    "\n",
    "connect(dnf_2d.s_out, dnf_1d.a_in, [Reorder(order=(1, 0))])"
   ],
   "metadata": {
    "collapsed": false,
    "pycharm": {
     "name": "#%%\n"
    }
   }
  },
  {
   "cell_type": "markdown",
   "source": [
    "Reordering can also be combined with the `ReduceDims` or `ExpandDims`\n",
    "operation, as shown below."
   ],
   "metadata": {
    "collapsed": false
   }
  },
  {
   "cell_type": "code",
   "execution_count": null,
   "outputs": [],
   "source": [
    "dnf_1d = Population(shape=(10,))\n",
    "dnf_2d = Population(shape=(20, 10))\n",
    "\n",
    "connect(dnf_2d.s_out, dnf_1d.a_in, [ExpandDims(new_dims_shape=20),\n",
    "                                    Reorder(order=(1, 0))])"
   ],
   "metadata": {
    "collapsed": false,
    "pycharm": {
     "name": "#%%\n"
    }
   }
  },
  {
   "cell_type": "markdown",
   "source": [
    "## Running and plotting networks\n",
    "\n",
    "Call the `run()` method, specifying the number of time steps to run for and the\n",
    "backend the model should run on. To enable plots, create probes before running\n",
    "and create plots with the probed data after running."
   ],
   "metadata": {
    "collapsed": false,
    "pycharm": {
     "name": "#%% md\n"
    }
   }
  },
  {
   "cell_type": "code",
   "execution_count": null,
   "outputs": [],
   "source": [
    "from lava.proc.io.monitor.process import Monitor\n",
    "from lava.magma.core.run_configs import Loihi1SimCfg\n",
    "from lava.magma.core.run_conditions import RunSteps\n",
    "\n",
    "from lava.lib.dnf.population.process import Population\n",
    "from lava.lib.dnf.inputs.gauss_pattern.process import GaussPattern\n",
    "from lava.lib.dnf.inputs.spike_generator.process import RateCodeSpikeGen\n",
    "from lava.lib.dnf.operations.operations import Weights, Convolution\n",
    "from lava.lib.dnf.connect.connect import connect\n",
    "\n",
    "shape = 15\n",
    "\n",
    "gauss_pattern = GaussPattern(shape=shape, amplitude=100, mean=5, stddev=5)\n",
    "spike_generator = RateCodeSpikeGen(shape=shape)\n",
    "gauss_pattern.a_out.connect(spike_generator.a_in)\n",
    "\n",
    "dnf = Population(shape=shape)\n",
    "\n",
    "kernel = MultiPeakKernel(amp_exc=17,\n",
    "                         width_exc=3,\n",
    "                         amp_inh=-15,\n",
    "                         width_inh=6)\n",
    "connect(dnf.s_out, dnf.a_in, [Convolution(kernel)])\n",
    "\n",
    "connect(spike_generator.s_out, dnf.a_in, [Weights(20)])\n",
    "\n",
    "monitor = Monitor()\n",
    "monitor.probe(dnf.s_out)\n",
    "monitor.probe(spike_generator.s_out)\n",
    "\n",
    "spike_generator.run(condition=RunSteps(num_steps=100),\n",
    "                    run_cfg=Loihi1SimCfg(select_sub_proc_model=True))\n",
    "\n",
    "# [...plot monitor...]\n",
    "\n",
    "spike_generator.stop()"
   ],
   "metadata": {
    "collapsed": false,
    "pycharm": {
     "name": "#%%\n"
    }
   }
  },
  {
   "cell_type": "markdown",
   "source": [
    "## DNF instabilities\n",
    "\n",
    "The following examples demonstrate the detection instability, the selection\n",
    "instability, and the working memory regime with one-dimensional DNFs.\n",
    "\n",
    "### Detection"
   ],
   "metadata": {
    "collapsed": false
   }
  },
  {
   "cell_type": "code",
   "execution_count": null,
   "outputs": [],
   "source": [
    "from lava.proc.io.monitor.process import Monitor\n",
    "from lava.magma.core.run_configs import Loihi1SimCfg\n",
    "from lava.magma.core.run_conditions import RunSteps\n",
    "\n",
    "from lava.lib.dnf.population.process import Population\n",
    "from lava.lib.dnf.inputs.gauss_pattern.process import GaussPattern\n",
    "from lava.lib.dnf.inputs.spike_generator.process import RateCodeSpikeGen\n",
    "from lava.lib.dnf.operations.operations import Weights, Convolution\n",
    "from lava.lib.dnf.connect.connect import connect\n",
    "\n",
    "shape = 15\n",
    "\n",
    "gauss_pattern = GaussPattern(shape=shape, amplitude=0, mean=3.75, stddev=2.25)\n",
    "spike_generator = RateCodeSpikeGen(shape=shape)\n",
    "gauss_pattern.a_out.connect(spike_generator.a_in)\n",
    "\n",
    "dnf = Population(shape=shape)\n",
    "\n",
    "kernel = MultiPeakKernel(amp_exc=82,\n",
    "                         width_exc=3.75,\n",
    "                         amp_inh=-70,\n",
    "                         width_inh=7.5)\n",
    "connect(dnf.s_out, dnf.a_in, [Convolution(kernel)])\n",
    "\n",
    "connect(spike_generator.s_out, dnf.a_in, [Weights(20)])\n",
    "\n",
    "monitor = Monitor()\n",
    "monitor.probe(dnf.s_out)\n",
    "monitor.probe(spike_generator.s_out)\n",
    "\n",
    "condition = RunSteps(num_steps=100)\n",
    "run_cfg = Loihi1SimCfg(select_sub_proc_model=True)\n",
    "spike_generator.run(condition=condition, run_cfg=run_cfg)\n",
    "gauss_pattern.amplitude = 2300\n",
    "spike_generator.run(condition=condition, run_cfg=run_cfg)\n",
    "gauss_pattern.amplitude = 11200\n",
    "spike_generator.run(condition=condition, run_cfg=run_cfg)\n",
    "gauss_pattern.amplitude = 2300\n",
    "spike_generator.run(condition=RunSteps(num_steps=200), run_cfg=run_cfg)\n",
    "gauss_pattern.amplitude = 0\n",
    "spike_generator.run(condition=condition, run_cfg=run_cfg)\n",
    "spike_generator.stop()\n",
    "\n",
    "# [...plot monitor...]"
   ],
   "metadata": {
    "collapsed": false,
    "pycharm": {
     "name": "#%%\n"
    }
   }
  },
  {
   "cell_type": "markdown",
   "source": [
    "### Selection"
   ],
   "metadata": {
    "collapsed": false
   }
  },
  {
   "cell_type": "code",
   "execution_count": null,
   "outputs": [],
   "source": [
    "from lava.proc.io.monitor.process import Monitor\n",
    "from lava.magma.core.run_configs import Loihi1SimCfg\n",
    "from lava.magma.core.run_conditions import RunSteps\n",
    "\n",
    "from lava.lib.dnf.population.process import Population\n",
    "from lava.lib.dnf.inputs.gauss_pattern.process import GaussPattern\n",
    "from lava.lib.dnf.inputs.spike_generator.process import RateCodeSpikeGen\n",
    "from lava.lib.dnf.operations.operations import Weights, Convolution\n",
    "from lava.lib.dnf.connect.connect import connect\n",
    "\n",
    "shape = 15\n",
    "\n",
    "gauss_pattern_1 = GaussPattern(shape=shape,\n",
    "                               amplitude=0,\n",
    "                               mean=11.25,\n",
    "                               stddev=2.25)\n",
    "spike_generator_1 = RateCodeSpikeGen(shape=shape)\n",
    "gauss_pattern_1.a_out.connect(spike_generator_1.a_in)\n",
    "\n",
    "gauss_pattern_2 = GaussPattern(shape=shape,\n",
    "                               amplitude=0,\n",
    "                               mean=3.75,\n",
    "                               stddev=2.25)\n",
    "spike_generator_2 = RateCodeSpikeGen(shape=shape)\n",
    "gauss_pattern_2.a_out.connect(spike_generator_2.a_in)\n",
    "\n",
    "dnf = Population(shape=shape)\n",
    "\n",
    "kernel = SelectiveKernel(amp_exc=18,\n",
    "                         width_exc=2.25,\n",
    "                         global_inh=-15)\n",
    "connect(dnf.s_out, dnf.a_in, [Convolution(kernel)])\n",
    "\n",
    "connect(spike_generator_1.s_out, dnf.a_in, [Weights(30)])\n",
    "connect(spike_generator_2.s_out, dnf.a_in, [Weights(30)])\n",
    "\n",
    "monitor = Monitor()\n",
    "monitor.probe(dnf.s_out)\n",
    "monitor.probe(spike_generator_1.s_out)\n",
    "monitor.probe(spike_generator_2.s_out)\n",
    "\n",
    "run_cfg = Loihi1SimCfg(select_sub_proc_model=True)\n",
    "\n",
    "dnf.run(condition=RunSteps(num_steps=99), run_cfg=run_cfg)\n",
    "gauss_pattern_1.amplitude = 10000\n",
    "dnf.run(condition=RunSteps(num_steps=1), run_cfg=run_cfg)\n",
    "gauss_pattern_2.amplitude = 10000\n",
    "dnf.run(condition=RunSteps(num_steps=100), run_cfg=run_cfg)\n",
    "gauss_pattern_1.amplitude = 0\n",
    "dnf.run(condition=RunSteps(num_steps=100), run_cfg=run_cfg)\n",
    "gauss_pattern_1.amplitude = 10000\n",
    "dnf.run(condition=RunSteps(num_steps=100), run_cfg=run_cfg)\n",
    "gauss_pattern_2.amplitude = 0\n",
    "dnf.run(condition=RunSteps(num_steps=100), run_cfg=run_cfg)\n",
    "gauss_pattern_2.amplitude = 10000\n",
    "dnf.run(condition=RunSteps(num_steps=100), run_cfg=run_cfg)\n",
    "gauss_pattern_1.amplitude = 0\n",
    "gauss_pattern_2.amplitude = 0\n",
    "dnf.run(condition=RunSteps(num_steps=100), run_cfg=run_cfg)\n",
    "dnf.stop()\n",
    "\n",
    "# [...plot monitor...]"
   ],
   "metadata": {
    "collapsed": false,
    "pycharm": {
     "name": "#%%\n"
    }
   }
  },
  {
   "cell_type": "markdown",
   "source": [
    "### Memory"
   ],
   "metadata": {
    "collapsed": false
   }
  },
  {
   "cell_type": "code",
   "execution_count": null,
   "outputs": [],
   "source": [
    "from lava.proc.io.monitor.process import Monitor\n",
    "from lava.magma.core.run_configs import Loihi1SimCfg\n",
    "from lava.magma.core.run_conditions import RunSteps\n",
    "\n",
    "from lava.lib.dnf.population.process import Population\n",
    "from lava.lib.dnf.inputs.gauss_pattern.process import GaussPattern\n",
    "from lava.lib.dnf.inputs.spike_generator.process import RateCodeSpikeGen\n",
    "from lava.lib.dnf.operations.operations import Weights, Convolution\n",
    "from lava.lib.dnf.connect.connect import connect\n",
    "\n",
    "shape = 15\n",
    "\n",
    "gauss_pattern_1 = GaussPattern(shape=shape,\n",
    "                               amplitude=0,\n",
    "                               mean=11.25,\n",
    "                               stddev=2.25)\n",
    "spike_generator_1 = RateCodeSpikeGen(shape=shape)\n",
    "gauss_pattern_1.a_out.connect(spike_generator_1.a_in)\n",
    "\n",
    "gauss_pattern_2 = GaussPattern(shape=shape,\n",
    "                               amplitude=0,\n",
    "                               mean=3.75,\n",
    "                               stddev=2.25)\n",
    "spike_generator_2 = RateCodeSpikeGen(shape=shape)\n",
    "gauss_pattern_2.a_out.connect(spike_generator_2.a_in)\n",
    "\n",
    "dnf = Population(shape=shape)\n",
    "\n",
    "kernel = MultiPeakKernel(amp_exc=30,\n",
    "                         width_exc=2.5,\n",
    "                         amp_inh=-18,\n",
    "                         width_inh=4.5)\n",
    "connect(dnf.s_out, dnf.a_in, [Convolution(kernel)])\n",
    "\n",
    "connect(spike_generator_1.s_out, dnf.a_in, [Weights(20)])\n",
    "connect(spike_generator_2.s_out, dnf.a_in, [Weights(20)])\n",
    "\n",
    "monitor = Monitor()\n",
    "monitor.probe(dnf.s_out)\n",
    "monitor.probe(spike_generator.s_out)\n",
    "\n",
    "condition = RunSteps(num_steps=100)\n",
    "run_cfg = Loihi1SimCfg(select_sub_proc_model=True)\n",
    "\n",
    "spike_generator.run(condition=condition, run_cfg=run_cfg)\n",
    "gauss_pattern_1.amplitude = 2300\n",
    "gauss_pattern_2.amplitude = 2300\n",
    "spike_generator.run(condition=condition, run_cfg=run_cfg)\n",
    "gauss_pattern_1.amplitude = 11200\n",
    "gauss_pattern_2.amplitude = 11200\n",
    "spike_generator.run(condition=condition, run_cfg=run_cfg)\n",
    "gauss_pattern_1.amplitude = 2300\n",
    "gauss_pattern_2.amplitude = 2300\n",
    "spike_generator.run(condition=condition, run_cfg=run_cfg)\n",
    "gauss_pattern_1.amplitude = 0\n",
    "gauss_pattern_2.amplitude = 0\n",
    "spike_generator.run(condition=condition, run_cfg=run_cfg)\n",
    "spike_generator.stop()\n",
    "\n",
    "# [...plot monitor...]"
   ],
   "metadata": {
    "collapsed": false,
    "pycharm": {
     "name": "#%%\n"
    }
   }
  }
 ],
 "metadata": {
  "kernelspec": {
   "display_name": "Python 3",
   "language": "python",
   "name": "python3"
  },
  "language_info": {
   "codemirror_mode": {
    "name": "ipython",
    "version": 2
   },
   "file_extension": ".py",
   "mimetype": "text/x-python",
   "name": "python",
   "nbconvert_exporter": "python",
   "pygments_lexer": "ipython2",
   "version": "2.7.6"
  }
 },
 "nbformat": 4,
 "nbformat_minor": 0
}